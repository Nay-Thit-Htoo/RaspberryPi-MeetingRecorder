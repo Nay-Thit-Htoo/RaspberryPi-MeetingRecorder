{
 "cells": [
  {
   "cell_type": "code",
   "execution_count": 14,
   "id": "35822e81-3d5d-4306-9744-6898c44ef0aa",
   "metadata": {
    "panel-layout": {
     "height": -10,
     "visible": true,
     "width": 100
    }
   },
   "outputs": [],
   "source": [
    "import tkinter as tk\n",
    "\n",
    "def center_window(window, width, height):\n",
    "    # Get the screen width and height\n",
    "    screen_width = window.winfo_screenwidth()\n",
    "    screen_height = window.winfo_screenheight()\n",
    "\n",
    "    # Calculate the position to center the window\n",
    "    x = (screen_width // 2) - (width // 2)\n",
    "    y = (screen_height // 2) - (height // 2)\n",
    "\n",
    "    # Set the geometry of the window\n",
    "    window.geometry(f'{width}x{height}+{x}+{y}')\n",
    "\n",
    "# Set the window size\n",
    "window_width = 400\n",
    "window_height = 300\n",
    "\n",
    "root = tk.Tk()\n",
    "root.title(\"Recorder Project\")\n",
    "\n",
    "# Create a frame to hold the widgets\n",
    "frame = tk.Frame(root)\n",
    "frame.pack(expand=True)\n",
    "\n",
    "#region recorder image\n",
    "image = tk.PhotoImage(file=\"C:\\\\Users\\\\naythithtoo.ABANK\\\\Downloads\\\\Python\\\\mic.png\")\n",
    "label = tk.Label(frame, image=image)\n",
    "label.pack(pady=10)\n",
    "\n",
    "#start & stop buttons\n",
    "startBtn=tk.Button(frame,text=\"Start\",bg=\"#121212\", fg=\"white\",width=15,height=2,font=(\"Helvetica\", 10))\n",
    "stopBtn=tk.Button(frame,text=\"Stop\",bg=\"#DEE3E2\", fg=\"black\",width=15,height=2,font=(\"Helvetica\", 10))\n",
    "startBtn.pack(side=tk.LEFT,padx=10, pady=10)\n",
    "stopBtn.pack(side=tk.LEFT,padx=10, pady=10)\n",
    "\n",
    "# Center the window\n",
    "center_window(root, window_width, window_height)\n",
    "\n",
    "root.mainloop()"
   ]
  },
  {
   "cell_type": "code",
   "execution_count": null,
   "id": "919c1236-0248-4f91-9f30-2e7fb8bee9af",
   "metadata": {},
   "outputs": [],
   "source": []
  },
  {
   "cell_type": "code",
   "execution_count": null,
   "id": "24113a12-2a9e-4170-995c-af4fbc0e44fd",
   "metadata": {},
   "outputs": [],
   "source": []
  }
 ],
 "metadata": {
  "kernelspec": {
   "display_name": "Python 3 (ipykernel)",
   "language": "python",
   "name": "python3"
  },
  "language_info": {
   "codemirror_mode": {
    "name": "ipython",
    "version": 3
   },
   "file_extension": ".py",
   "mimetype": "text/x-python",
   "name": "python",
   "nbconvert_exporter": "python",
   "pygments_lexer": "ipython3",
   "version": "3.12.4"
  },
  "panel-cell-order": [
   "35822e81-3d5d-4306-9744-6898c44ef0aa"
  ]
 },
 "nbformat": 4,
 "nbformat_minor": 5
}
